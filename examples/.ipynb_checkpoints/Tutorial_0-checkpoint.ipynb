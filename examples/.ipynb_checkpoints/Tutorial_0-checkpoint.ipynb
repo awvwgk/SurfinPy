{
 "cells": [
  {
   "cell_type": "markdown",
   "metadata": {},
   "source": [
    "## Tutorial 0 - Background"
   ]
  },
  {
   "cell_type": "markdown",
   "metadata": {},
   "source": [
    "Before using the subsequent tutorials it is important to be aware of the requirements and considerations that one must be aware of. This module is designed to generate two dimensional phase diagrams for slabs with varying surface composition. An obvious example that you may wish to study is water adsorpting on to a defective surface. To do this you would need to have calculations with different concentrations on water on a stoichiometric surface, and then on a defective surface e.g. with one oxygen vacancy, two vacacies and so on. The end result of this module is some sort of phase diagram, the accuracy of this plot will depend on\n",
    "* How accurate your calcualtions are? e.g. have you used the correct pseudopotential, if you are using DFT+U is your U value correct? e.t.c\n",
    "* How much data have you got? A phase diagram built from 3 calculations may miss a large chunk of the puzzle. \n",
    "   \n",
    "So it is important that before you begin to analyse your data with this module that you have generated a good quantity of reliable data."
   ]
  },
  {
   "cell_type": "markdown",
   "metadata": {},
   "source": [
    "### Theory\n",
    "\n",
    "In studies of mutli component chemical systems we often wish to study the relative stability of multiple configurations with different compositions. Surfinpy deals with slab calculations so allows the analysis of slabs with different surface compositions. Lets explore this using a simple AB system, "
   ]
  },
  {
   "cell_type": "code",
   "execution_count": null,
   "metadata": {},
   "outputs": [],
   "source": []
  }
 ],
 "metadata": {
  "kernelspec": {
   "display_name": "Python 3",
   "language": "python",
   "name": "python3"
  },
  "language_info": {
   "codemirror_mode": {
    "name": "ipython",
    "version": 3
   },
   "file_extension": ".py",
   "mimetype": "text/x-python",
   "name": "python",
   "nbconvert_exporter": "python",
   "pygments_lexer": "ipython3",
   "version": "3.7.0"
  }
 },
 "nbformat": 4,
 "nbformat_minor": 2
}
