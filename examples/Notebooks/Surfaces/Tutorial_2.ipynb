{
 "cells": [
  {
   "cell_type": "markdown",
   "metadata": {},
   "source": [
    "## SurfinPy"
   ]
  },
  {
   "cell_type": "markdown",
   "metadata": {},
   "source": [
    "#### Tutorial 2 - Introducing temperature dependence"
   ]
  },
  {
   "cell_type": "markdown",
   "metadata": {
    "collapsed": true
   },
   "source": [
    "In tutorial 1 we generated a phase diagram at 0K. However this is not representative of normal conditions. Temperature is an important consideration for materials chemists and we may wish to evaluate the state of a solid electrolyte at the operating temperature or synthesis conditions. In order to overcome this and introduce temperature we need to modify the equation for our surface energy in tutorial 1. This explanation will again be using $TiO_2$"
   ]
  },
  {
   "cell_type": "markdown",
   "metadata": {
    "collapsed": true
   },
   "source": [
    "\\begin{align}\n",
    "\\gamma_{Surf} & = \\frac{1}{2A} \\Bigg( E_{TiO_2}^{slab} - \\frac{nTi_{Slab}}{nTi_{Bulk}} E_{TiO_2}^{Bulk} \\Bigg) - \\Gamma_O \\mu_O - \\Gamma_{H_2O} \\mu_{H_2O} - n_O \\mu_O (T) - n_{H_2O} \\mu_{H_2O} (T) \n",
    "\\end{align}"
   ]
  },
  {
   "cell_type": "markdown",
   "metadata": {
    "collapsed": true
   },
   "source": [
    "where A is the surface area, $E_{TiO_2}^{slab}$ is the DFT energy of the slab, $nTi_{Slab}$ is the number of cations in the slab, $nTi_{Bulk}$ is the number of cations in the bulk unit cell, $E_{TiO_2}^{Bulk}$ is the DFT energy of the bulk unit cell and"
   ]
  },
  {
   "cell_type": "markdown",
   "metadata": {},
   "source": [
    "\\begin{align}\n",
    "\\Gamma_O & = \\frac{1}{2A} \\Bigg( nO_{Slab} - \\frac{nO_{Bulk}}{nTi_{Bulk}}nTi_{Slab}  \\Bigg) ,\n",
    "\\end{align}"
   ]
  },
  {
   "cell_type": "markdown",
   "metadata": {},
   "source": [
    "\\begin{align}\n",
    "\\Gamma_{H_2O} & = \\frac{nH_2O}{2A} ,\n",
    "\\end{align}"
   ]
  },
  {
   "cell_type": "markdown",
   "metadata": {},
   "source": [
    "$nO_{Slab}$ is the number of anions in the slab, $nO_{Bulk}$ is the number of anions in the bulk, $nH_2O$ is the number of adsorbing water molecules and $n_O$ is the number of defective oxygen. $\\Gamma_O$ / $\\Gamma_{H_2O}$ is the excess oxygen / water at the surface and $\\mu_O$ / $\\mu_{H_2O}$ is the oxygen / water chemcial potential. $\\mu_{H_2O} $(T) / $\\mu_O (T)$ are terms to correct the chemcial potential of oxygen and water based on thermochemical data from the NIST_JANAF database, making the chemical potential a temperature dependent term. "
   ]
  },
  {
   "cell_type": "markdown",
   "metadata": {
    "collapsed": true
   },
   "source": [
    "\\begin{align}\n",
    "\\mu_O (T) &  = \\frac{1}{2} \\mu_O (T) (0 K , DFT) +  \\frac{1}{2} \\mu_O (T) (0 K , EXP) +  \\frac{1}{2} \\Delta G_{O_2} ( \\Delta T, Exp)\n",
    "\\end{align}"
   ]
  },
  {
   "cell_type": "markdown",
   "metadata": {
    "collapsed": true
   },
   "source": [
    "where $\\mu_O$ (T) (0 K , DFT) is the 0K free energy of an isolated oxygen moleculeevaluated with DFT, $\\mu_O$ (T) (0 K , EXP) is the 0 K experimental  Gibbs energy for oxygen gas and $\\Delta$ $G_{O_2}$ ( $\\Delta$ T, Exp) is the Gibbs energy defined at temperature T as"
   ]
  },
  {
   "cell_type": "markdown",
   "metadata": {},
   "source": [
    "\\begin{align}\n",
    "\\Delta G_{O_2} ( \\Delta T, Exp) &  = \\frac{1}{2} [H(T, {O_2}) -  H(0 K, {O_2})] -  \\frac{1}{2} T[S(T, {O_2}])\n",
    "\\end{align}"
   ]
  },
  {
   "cell_type": "code",
   "execution_count": 1,
   "metadata": {},
   "outputs": [],
   "source": [
    "import matplotlib.pyplot as plt\n",
    "from surfinpy import mu_vs_mu\n",
    "from surfinpy import utils as ut\n",
    "from surfinpy import data"
   ]
  },
  {
   "cell_type": "markdown",
   "metadata": {},
   "source": [
    "In order to calculate our $\\Delta$ $G_{O_2}$ ( $\\Delta$ T, Exp) values we need to use experimental data from the NIST-JANAF database. As a user you need to download the tables for the species you are interested in ( In our case oxygen and water). Surfinpy has a function that can read this data, assuming it is in the correct format and calculate the temperature correction for you. Provide the path to the file and the temperature that you want as an index."
   ]
  },
  {
   "cell_type": "code",
   "execution_count": 2,
   "metadata": {},
   "outputs": [],
   "source": [
    "Oxygen_exp = ut.fit_nist(\"O2.txt\")[298]\n",
    "Water_exp = ut.fit_nist(\"H2O.txt\")[298]"
   ]
  },
  {
   "cell_type": "markdown",
   "metadata": {},
   "source": [
    "-9.08 is the DFT energy of an oxygen molecule, -0.86 is the zero point energy and Oxygen_exp is the experimental free energy at 298 K. "
   ]
  },
  {
   "cell_type": "code",
   "execution_count": 3,
   "metadata": {},
   "outputs": [
    {
     "name": "stdout",
     "output_type": "stream",
     "text": [
      "-5.2427609629166\n",
      "-14.77234481554258\n"
     ]
    }
   ],
   "source": [
    "Oxygen_corrected = (-9.08 + -0.86 + Oxygen_exp) / 2 \n",
    "Water_corrected = -14.84 + 0.55 + Water_exp\n",
    "print(Oxygen_corrected)\n",
    "print(Water_corrected)"
   ]
  },
  {
   "cell_type": "markdown",
   "metadata": {},
   "source": [
    "Oxygen_corrected and Water_corrected are now temperature dependent terms corresponding to a temperature of 298 K. The resulting phase diagram will now be at a temperature of 298 K. "
   ]
  },
  {
   "cell_type": "code",
   "execution_count": 4,
   "metadata": {},
   "outputs": [],
   "source": [
    "bulk = data.ReferenceDataSet(cation = 1, anion = 2, energy = -780.0, funits = 4)\n",
    "\n",
    "pure = data.DataSet(cation = 24, x = 48, y = 0, area = 60.0, energy = -575.0, label = \"0.00 $TiO_2$\", nspecies = 1)\n",
    "H2O = data.DataSet(cation = 24, x = 48, y = 2, area = 60.0, energy = -612.0, label = \"0.16 $TiO_2$\", nspecies = 1)\n",
    "H2O_2 = data.DataSet(cation = 24, x = 48, y = 4, area = 60.0, energy = -640.0, label = \"0.32 $TiO_2$\", nspecies = 1)\n",
    "H2O_3 = data.DataSet(cation = 24, x = 48, y = 8, area = 60.0, energy = -676.0, label = \"0.64 $TiO_2$\", nspecies = 1)\n",
    "Vo = data.DataSet(cation = 24, x = 46, y = 0, area = 60.0, energy = -558.0, label = \"0.00 $TiO_1.9$\", nspecies = 1)\n",
    "H2O_Vo_1 = data.DataSet(cation = 24, x = 46, y = 2, area = 60.0, energy = -594.0, label = \"0.00 $TiO_1.9$\", nspecies = 1)\n",
    "H2O_Vo_2 = data.DataSet(cation = 24, x = 46, y = 4, area = 60.0, energy = -624.0, label = \"0.16 $TiO_1.9$\", nspecies = 1)\n",
    "H2O_Vo_3 = data.DataSet(cation = 24, x = 46, y = 6, area = 60.0, energy = -640.0, label = \"0.32 $TiO_1.9$\", nspecies = 1)\n",
    "H2O_Vo_4 = data.DataSet(cation = 24, x = 46, y = 8, area = 60.0, energy = -670.0, label = \"0.64 $TiO_1.9$\", nspecies = 1)\n",
    "\n",
    "data = [pure, Vo, H2O, H2O_Vo_1, H2O_2, H2O_Vo_2, H2O_3, H2O_Vo_3,  H2O_Vo_4]\n"
   ]
  },
  {
   "cell_type": "code",
   "execution_count": 5,
   "metadata": {},
   "outputs": [],
   "source": [
    "deltaX = {'Range': [ -12, -6],  'Label': 'O'}\n",
    "deltaY = {'Range': [ -19, -12], 'Label': 'H_2O'}"
   ]
  },
  {
   "cell_type": "code",
   "execution_count": 6,
   "metadata": {
    "scrolled": false
   },
   "outputs": [],
   "source": [
    "system =  mu_vs_mu.calculate(data, bulk, deltaX, deltaY, x_energy=Oxygen_corrected, y_energy=Water_corrected)"
   ]
  },
  {
   "cell_type": "code",
   "execution_count": 7,
   "metadata": {},
   "outputs": [
    {
     "data": {
      "image/png": "[encoded data removed]",
      "text/plain": [
       "<Figure size 432x360 with 2 Axes>"
      ]
     },
     "metadata": {
      "needs_background": "light"
     },
     "output_type": "display_data"
    }
   ],
   "source": [
    "ax = system.plot_phase(temperature=298, set_style=\"fast\", colourmap=\"RdBu\", cbar_title=\"$H_2O$ $/$ $nm^2$\", figsize=(6, 5))\n",
    "plt.savefig(\"../../../docs/source/Figures/Surfaces_3.png\", dpi=600)\n",
    "plt.show()"
   ]
  }
 ],
 "metadata": {
  "kernelspec": {
   "display_name": "Python 3",
   "language": "python",
   "name": "python3"
  },
  "language_info": {
   "codemirror_mode": {
    "name": "ipython",
    "version": 3
   },
   "file_extension": ".py",
   "mimetype": "text/x-python",
   "name": "python",
   "nbconvert_exporter": "python",
   "pygments_lexer": "ipython3",
   "version": "3.7.4"
  }
 },
 "nbformat": 4,
 "nbformat_minor": 2
}
