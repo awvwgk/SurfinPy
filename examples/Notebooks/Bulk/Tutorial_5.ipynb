{
 "cells": [
  {
   "cell_type": "markdown",
   "metadata": {},
   "source": [
    "## SurfinPy"
   ]
  },
  {
   "cell_type": "markdown",
   "metadata": {},
   "source": [
    "#### Tutorial 5 - Chemical Potential vs Chemical Potential Including Vibration Properties"
   ]
  },
  {
   "cell_type": "markdown",
   "metadata": {},
   "source": [
    "In the Tutorial 2 we showed how experimental data could be used to determine the temperature dependent free energy term for gaseous species and then plot a phase diagram that represents 298 K.  In this example we will expand this methodology to calculate the vibrational properties for solid phases (<i>i.e.</i> zero point energy, vibrational entropy) and include these values in the generation of the phase diagrams.  This allows for a more accurate calculation of phase diagrams without the need to include experimental corrections for solid phases."
   ]
  },
  {
   "cell_type": "markdown",
   "metadata": {},
   "source": [
    "##### Methodoloy"
   ]
  },
  {
   "cell_type": "markdown",
   "metadata": {},
   "source": [
    "As with tutorial 2 for gaseous species, the standard free energy varies significantly with temperature, and as DFT simulations are designed for condensed phase systems, we use experimental data to determine the temperature dependent free energy term for gaseous species obtained from the NIST database.  In addition we also calculate the vibrational properties for the solid phases modifying the free energy (G) for solid phases to be;"
   ]
  },
  {
   "cell_type": "markdown",
   "metadata": {},
   "source": [
    "\\begin{align}\n",
    "\\Delta G_f = U_0 + U_{\\text{ZPE}} -T\\Delta S_{\\text{vib}}\n",
    "\\end{align}"
   ]
  },
  {
   "cell_type": "markdown",
   "metadata": {},
   "source": [
    "$U_0$ is the calculated internal energy from a DFT calculation, $U_{\\text{ZPE}}$ is the zero point energy and $S_{\\text{vib}}$ is the vibrational entropy."
   ]
  },
  {
   "cell_type": "markdown",
   "metadata": {},
   "source": [
    "\\begin{align}\n",
    "\tU_{\\text{ZPE}} = \\sum_i^{3n} \\frac{R \\theta_i}{2}\n",
    "\\end{align}\n",
    "\n"
   ]
  },
  {
   "cell_type": "markdown",
   "metadata": {},
   "source": [
    "\\begin{align}\n",
    "S_{\\text{vib}} = \\frac{U_{\\text{vib}} - A_{\\text{vib}}}{T}\n",
    "\\end{align}"
   ]
  },
  {
   "cell_type": "markdown",
   "metadata": {},
   "source": [
    "where $A_{\\text{vib}}$ and $U_{\\text{vib}}$ is the vibrational Helmholtz free energy and vibrational internal energy and defined as;"
   ]
  },
  {
   "cell_type": "markdown",
   "metadata": {},
   "source": [
    "\\begin{align}\n",
    "U_{\\text{vib}} =  \\sum_i^{3n} \\frac{R\\theta}{e^{(\\theta/T)}-1}\n",
    "\\end{align}"
   ]
  },
  {
   "cell_type": "markdown",
   "metadata": {},
   "source": [
    "\\begin{align}\n",
    "\tA_{\\text{vib}} = \\sum_i^{3n} RT \\ln{(1-e^{-\\theta_i/T})}\n",
    "\\end{align}\n"
   ]
  },
  {
   "cell_type": "markdown",
   "metadata": {},
   "source": [
    "3n is the total number of vibrational modes, n is the number of species and $\\theta_i$ is the characteristic vibrational temperature (frequency of the vibrational mode in Kelvin)."
   ]
  },
  {
   "cell_type": "markdown",
   "metadata": {},
   "source": [
    "\\begin{equation}\n",
    "\t\\theta_i = \\frac{h\\nu_i}{k_B}\n",
    "\t\\label{eq:theta}\n",
    "\\end{equation}"
   ]
  },
  {
   "cell_type": "markdown",
   "metadata": {},
   "source": [
    "##### code"
   ]
  },
  {
   "cell_type": "code",
   "execution_count": 1,
   "metadata": {},
   "outputs": [],
   "source": [
    "import matplotlib.pyplot as plt\n",
    "from surfinpy import bulk_mu_vs_mu as bmvm\n",
    "from surfinpy import utils as ut\n",
    "from surfinpy import data"
   ]
  },
  {
   "cell_type": "code",
   "execution_count": 2,
   "metadata": {},
   "outputs": [],
   "source": [
    "temperature_range = [298, 299]"
   ]
  },
  {
   "cell_type": "markdown",
   "metadata": {},
   "source": [
    "SurfinPy has the function to calculate the zero point energy and the vibrational entropy when entropy and zpe = True."
   ]
  },
  {
   "cell_type": "code",
   "execution_count": 3,
   "metadata": {},
   "outputs": [
    {
     "name": "stderr",
     "output_type": "stream",
     "text": [
      "/opt/anaconda3/lib/python3.7/site-packages/surfinpy-1.0.3-py3.7.egg/surfinpy/utils.py:182: YAMLLoadWarning: calling yaml.load() without Loader=... is deprecated, as the default Loader is unsafe. Please read https://msg.pyyaml.org/load for full details.\n",
      "  vib_prop = yaml.load(file)\n"
     ]
    }
   ],
   "source": [
    "bulk = data.ReferenceDataSet(cation = 1, anion = 1, energy = -92.0, funits = 10, file = 'bulk_vib.yaml', entropy=True, zpe=True, temp_range=temperature_range)"
   ]
  },
  {
   "cell_type": "markdown",
   "metadata": {},
   "source": [
    "In addition to entropy and zpe keyword you must provide the a file containing the vibrational modes and number of formula units used in taht calculations.  You must create the yaml file using the following format\n",
    "\n",
    "```\n",
    "    F-Units : number\n",
    "    Frequencies : \n",
    "    - mode1\n",
    "    - mode2\n",
    "              \n",
    "```\n",
    "\n",
    "Vibrational modes can be calculated via a density functional pertibation calculation or via the phonopy code.\n",
    "\n"
   ]
  },
  {
   "cell_type": "code",
   "execution_count": 4,
   "metadata": {},
   "outputs": [],
   "source": [
    "\n",
    "MgO = data.DataSet(cation = 10, x = 0, y = 0, energy = -92, \n",
    "                   label = \"Periclase\", entropy = True, zpe=True, file = 'MgO_vib.yaml', \n",
    "                   funits = 10, temp_range=temperature_range)\n",
    "\n",
    "Art = data.DataSet(cation = 10, x = 5, y = 20, energy = -468, \n",
    "                   label = \"Artinite\", entropy = True, zpe=True, file = 'Art_vib.yaml', \n",
    "                   funits = 5, temp_range=temperature_range)\n",
    "\n",
    "Bru = data.DataSet(cation = 10, x = 0, y = 10, energy = -228, \n",
    "                   label = \"Brucite\", entropy = True, zpe=True, file = 'Bru_vib.yaml', \n",
    "                   funits =  10, temp_range=temperature_range)\n",
    "\n",
    "Nes = data.DataSet(cation = 10, x = 10, y = 30, energy = -706, \n",
    "                   label = \"Nesquehonite\", entropy = True, zpe=True, file = 'Nes_vib.yaml', \n",
    "                   funits = 10, temp_range=temperature_range)\n",
    "\n",
    "Mag = data.DataSet(cation = 10, x = 10, y = 0, energy = -310, \n",
    "                   label = \"Magnesite\", entropy = True, zpe=True,  file = 'Mag_vib.yaml', \n",
    "                   funits =  10, temp_range=temperature_range)\n",
    "\n",
    "Lan = data.DataSet(cation = 10, x = 10, y = 50, energy = -972, \n",
    "                   label = \"Lansfordite\", entropy = True, zpe=True, file = 'Lan_vib.yaml', \n",
    "                   funits =  10, temp_range=temperature_range)\n",
    "\n",
    "Hyd = data.DataSet(cation = 10, x = 8, y = 10, energy = -398, \n",
    "                   label = \"Hydromagnesite\", entropy = True, zpe=True, file = 'Hyd_vib.yaml', \n",
    "                   funits =  2, temp_range=temperature_range)"
   ]
  },
  {
   "cell_type": "code",
   "execution_count": 5,
   "metadata": {},
   "outputs": [],
   "source": [
    "data = [MgO, Art, Bru, Nes,  Mag, Lan, Hyd]"
   ]
  },
  {
   "cell_type": "code",
   "execution_count": 6,
   "metadata": {},
   "outputs": [],
   "source": [
    "x_energy=-20.53412969\n",
    "y_energy=-12.83725889"
   ]
  },
  {
   "cell_type": "code",
   "execution_count": 7,
   "metadata": {},
   "outputs": [],
   "source": [
    "CO2_exp = ut.fit_nist(\"CO2.txt\")[298]\n",
    "Water_exp = ut.fit_nist(\"H2O.txt\")[298]\n",
    "\n",
    "CO2_corrected = x_energy + CO2_exp\n",
    "Water_corrected = y_energy + Water_exp\n",
    "\n",
    "deltaX = {'Range': [ -1, 0.6],  'Label': 'CO_2'}\n",
    "deltaY = {'Range': [ -1, 0.6], 'Label': 'H_2O'}"
   ]
  },
  {
   "cell_type": "code",
   "execution_count": 8,
   "metadata": {
    "tags": []
   },
   "outputs": [
    {
     "data": {
      "image/png": "[encoded data removed]",
      "text/plain": [
       "<Figure size 576x384 with 4 Axes>"
      ]
     },
     "metadata": {
      "needs_background": "light"
     },
     "output_type": "display_data"
    }
   ],
   "source": [
    "temp_298 = bmvm.calculate(data, bulk, deltaX, deltaY, CO2_corrected, Water_corrected)\n",
    "ax = temp_298.plot_mu_p(temperature=298, colourmap=\"RdBu\", figsize=(6, 4))\n"
   ]
  },
  {
   "cell_type": "code",
   "execution_count": null,
   "metadata": {},
   "outputs": [],
   "source": []
  }
 ],
 "metadata": {
  "kernelspec": {
   "display_name": "Python 3",
   "language": "python",
   "name": "python3"
  },
  "language_info": {
   "codemirror_mode": {
    "name": "ipython",
    "version": 3
   },
   "file_extension": ".py",
   "mimetype": "text/x-python",
   "name": "python",
   "nbconvert_exporter": "python",
   "pygments_lexer": "ipython3",
   "version": "3.7.4"
  }
 },
 "nbformat": 4,
 "nbformat_minor": 4
}
