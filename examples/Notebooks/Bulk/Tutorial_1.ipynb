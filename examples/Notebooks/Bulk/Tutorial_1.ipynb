{
 "cells": [
  {
   "cell_type": "markdown",
   "metadata": {},
   "source": [
    "## Surfinpy\n",
    "\n",
    "#### Tutorial 1 - Bulk Phase diagrams"
   ]
  },
  {
   "cell_type": "markdown",
   "metadata": {},
   "source": [
    "In this tutorial we learn how to generate a basic bulk phase diagram from DFT energies.  This enables the comparison of the thermodynamic stability of various different bulk phases under different chemical potentials giving valuable insight in to the syntheis of solid phases.  This example will consider a series of bulk phases which can be defined through a reaction scheme across all phases, thus for this example including an example bulk phase, H<sub>2</sub>O and CO<sub>2</sub> as reactions and A as a generic product."
   ]
  },
  {
   "cell_type": "markdown",
   "metadata": {},
   "source": [
    "\\begin{align}\n",
    "x\\text{Bulk} + y\\text{H}_2\\text{O} + z\\text{CO}_2 \\rightarrow \\text{A}\n",
    "\\end{align}"
   ]
  },
  {
   "cell_type": "markdown",
   "metadata": {},
   "source": [
    "##### Methodology"
   ]
  },
  {
   "cell_type": "markdown",
   "metadata": {},
   "source": [
    "The system is in equilibrium when the chemical potentials of the reactants and product are equal; <i>i.e.</i> the change in Gibbs free energy is $\\delta G_{T,p} = 0$.\n",
    "\n",
    "\\begin{align}\n",
    "\t\\delta G_{T,p} = \\mu_A - x\\mu_{\\text{Bulk}} - y\\mu_{\\text{H}_2\\text{O}} - z\\mu_{\\text{CO}_2} = 0\n",
    "\\end{align}\n",
    "\n",
    "Assuming that H<sub>2</sub>O and CO<sub>2</sub> are gaseous species, $\\mu_{CO_2}$ and $\\mu_{H_2O}$ can be written as\n",
    "\n",
    "\\begin{align}\n",
    "\t\\mu_{\\text{H}_2\\text{O}} = \\mu^0_{\\text{H}_2\\text{O}} + \\Delta\\mu_{\\text{H}_2\\text{O}}\n",
    "\\end{align}\n",
    "and \n",
    "\\begin{align}\n",
    "\t\\mu_{\\text{CO}_2} = \\mu^0_{\\text{CO}_2} + \\Delta\\mu_{\\text{CO}_2}\n",
    "\\end{align}\n",
    "\n",
    "\n",
    "The chemical potential $\\mu^0_x$ is the partial molar free energy of any reactants or products (x) in their standard states, in this example we assume all solid components can be expressed as\n",
    "\n",
    "\\begin{align}\n",
    "\\mu_{\\text{component}} = \\mu^0_{\\text{component}}\n",
    "\\end{align}\n",
    "\n",
    "Hence, we can now rearrange the equations to produce;\n",
    "\n",
    "\\begin{align}\n",
    "\t\\mu^0_A - x\\mu^0_{\\text{Bulk}} - y\\mu^0_{\\text{H}_2\\text{O}} - z\\mu^0_{\\text{CO}_2} = y\\Delta\\mu_{\\text{H}_2\\text{O}} + z\\Delta\\mu_{\\text{CO}_2}\n",
    "\\end{align}\n",
    "\n",
    "As $\\mu^0_A$  corresponds to the partial molar free energy of product A, we can replace the left side with the Gibbs free energy ($\\Delta G_{\\text{f}}^0$).\n",
    "\n",
    "\\begin{align}\n",
    "\t\\delta G_{T,p} = \\Delta G_{\\text{f}}^0 - y\\Delta\\mu_{\\text{H}_2\\text{O}} - z\\Delta\\mu_{\\text{CO}_2}\n",
    "\\end{align}\n",
    "\n",
    "At equilibrium $\\delta G_{T,p} = 0$, and hence\n",
    "\n",
    "\\begin{align}\n",
    "\t\\Delta G_{\\text{f}}^0 = y\\Delta\\mu_{\\text{H}_2\\text{O}} + z\\Delta\\mu_{\\text{CO}_2}\n",
    "\\end{align}\n",
    "\n",
    "Thus, we can find the values of $\\Delta\\mu_{\\text{H}_2\\text{O}}$ and $\\Delta\\mu_{\\text{CO}_2}$ (or $(p_{\\text{H}_2\\text{O}})^y$ and $(p_{\\text{CO}_2})^z$) when solid phases are in thermodynamic equilibrium; <i>i.e.</i> they are more or less stable than bulk.  This procedure can then be applied to all phases to identify which is the most stable, provided that the free energy $\\Delta G_f^0$ is known for each phase.\n",
    "\n",
    "The free energy can be calculated using\n",
    "\n",
    "\\begin{align}\n",
    "\\Delta G^{0}_{f} = \\sum\\Delta G_{f}^{0,\\text{products}} - \\sum\\Delta G_{f}^{0,\\text{reactants}}\n",
    "\\end{align}\n",
    "\n",
    "Where for this tutorial the free energy (G) is equal to the calculated DFT energy (U<sub>0</sub>).\n"
   ]
  },
  {
   "cell_type": "code",
   "execution_count": 1,
   "metadata": {},
   "outputs": [],
   "source": [
    "import matplotlib.pyplot as plt\n",
    "from surfinpy import bulk_mu_vs_mu as bmvm\n",
    "from surfinpy import utils as ut\n",
    "from surfinpy import data"
   ]
  },
  {
   "cell_type": "markdown",
   "metadata": {},
   "source": [
    "The first thing to do is input the data that we have generated from our DFT simulations. The input data needs to be contained within a `surfinpy.data` object. First we have created a `surfinpy.data.ReferenceDataSet` object for the bulk data (reference data), where `cation` is the number of cations, `anion` is the number of anions, `energy` is the DFT energy and `funits` is the number of formula units."
   ]
  },
  {
   "cell_type": "code",
   "execution_count": 2,
   "metadata": {},
   "outputs": [],
   "source": [
    "bulk = data.ReferenceDataSet(cation = 1, anion = 1, energy = -92.0, funits = 10)"
   ]
  },
  {
   "cell_type": "markdown",
   "metadata": {},
   "source": [
    "Next we create the bulk `surfinpy.data.DataSet` objects - one for each surface or \"phase\". `cation` is the number of cations, `x` is in this case the number of oxygen species (corresponding to the X axis of the phase diagram), `y` is the number of in this case water molecules (corresponding to the Y axis of our phase diagram), `energy` is the DFT energy, `label` is the label for the phase (appears on the phase diagram) and finally `nSpecies` is the number of adsorbin species.\n"
   ]
  },
  {
   "cell_type": "code",
   "execution_count": 3,
   "metadata": {},
   "outputs": [],
   "source": [
    "Bulk = data.DataSet(cation = 10, x = 0, y = 0, energy = -92.0, label = \"Bulk\")\n",
    "A = data.DataSet(cation = 10, x = 5, y = 20, energy = -468.0, label = \"A\")\n",
    "B = data.DataSet(cation = 10, x = 0, y = 10, energy = -228.0, label = \"B\")\n",
    "C = data.DataSet(cation = 10, x = 10, y = 30, energy = -706.0, label = \"C\")\n",
    "D = data.DataSet(cation = 10, x = 10, y = 0, energy = -310.0, label = \"D\")\n",
    "E = data.DataSet(cation = 10, x = 10, y = 50, energy = -972.0, label = \"E\")\n",
    "F = data.DataSet(cation = 10, x = 8, y = 10, energy = -398.0, label = \"F\")\n"
   ]
  },
  {
   "cell_type": "markdown",
   "metadata": {},
   "source": [
    "Next we need to create a list of our data. Don't worry about the order, surfinpy will sort that out for you. "
   ]
  },
  {
   "cell_type": "code",
   "execution_count": 4,
   "metadata": {},
   "outputs": [],
   "source": [
    "data = [Bulk, A, B, C,  D, E, F]"
   ]
  },
  {
   "cell_type": "markdown",
   "metadata": {},
   "source": [
    "We now need to generate our X and Y axis, or more appropriately, our chemical potential values. These exist in a dictionary. 'Range' corresponds to the range of chemcial potential values to be considered and 'Label' is the axis label.  Additionally, the x and y energy need to be specified.\n",
    "\n",
    "```\n",
    "    deltaX = {'Range': Range of Chemical Potential,\n",
    "              'Label': Species Label}\n",
    "              \n",
    "```"
   ]
  },
  {
   "cell_type": "code",
   "execution_count": 5,
   "metadata": {},
   "outputs": [],
   "source": [
    "deltaX = {'Range': [ -3, 2],  'Label': 'CO_2'}\n",
    "deltaY = {'Range': [ -3, 2], 'Label': 'H_2O'}\n",
    "x_energy=-20.53412969\n",
    "y_energy=-12.83725889"
   ]
  },
  {
   "cell_type": "markdown",
   "metadata": {},
   "source": [
    "And finally we can generate our plot using these 6 variables of data. "
   ]
  },
  {
   "cell_type": "code",
   "execution_count": 6,
   "metadata": {
    "tags": []
   },
   "outputs": [
    {
     "name": "stderr",
     "output_type": "stream",
     "text": [
      "findfont: Font family ['cursive'] not found. Falling back to DejaVu Sans.\n"
     ]
    },
    {
     "data": {
      "image/png": "[encoded data removed]",
      "text/plain": [
       "<Figure size 432x324 with 2 Axes>"
      ]
     },
     "metadata": {
      "needs_background": "light"
     },
     "output_type": "display_data"
    }
   ],
   "source": [
    "system = bmvm.calculate(data, bulk, deltaX, deltaY, x_energy, y_energy)\n",
    "\n",
    "ax = system.plot_phase(figsize=(6, 4.5))\n",
    "plt.show()"
   ]
  },
  {
   "cell_type": "code",
   "execution_count": null,
   "metadata": {},
   "outputs": [],
   "source": []
  }
 ],
 "metadata": {
  "kernelspec": {
   "display_name": "Python 3",
   "language": "python",
   "name": "python3"
  },
  "language_info": {
   "codemirror_mode": {
    "name": "ipython",
    "version": 3
   },
   "file_extension": ".py",
   "mimetype": "text/x-python",
   "name": "python",
   "nbconvert_exporter": "python",
   "pygments_lexer": "ipython3",
   "version": "3.8.6"
  }
 },
 "nbformat": 4,
 "nbformat_minor": 2
}
