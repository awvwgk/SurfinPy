{
 "cells": [
  {
   "cell_type": "markdown",
   "metadata": {},
   "source": [
    "# Surfinpy"
   ]
  },
  {
   "cell_type": "markdown",
   "metadata": {},
   "source": [
    "#### Tutorial 3 - Pressure"
   ]
  },
  {
   "cell_type": "markdown",
   "metadata": {},
   "source": [
    "In the previous tutorials we went through the process of generating a simple phase diagram for bulk phases and introducing temperature dependence for gaseous species.  This useful however, sometimes it can be more beneficial to convert the chemical potenials (eVs) to partial presure (bar). "
   ]
  },
  {
   "cell_type": "markdown",
   "metadata": {},
   "source": [
    "Chemical potential can be converted to pressure values using"
   ]
  },
  {
   "cell_type": "markdown",
   "metadata": {},
   "source": [
    "\\begin{align}\n",
    "P & = \\frac{\\mu_O}{k_B T} ,\n",
    "\\end{align}"
   ]
  },
  {
   "cell_type": "markdown",
   "metadata": {},
   "source": [
    "where P is the pressure, $\\mu$ is the chemical potential of oxygen, $k_B$ is the Boltzmnann constant and T is the temperature. "
   ]
  },
  {
   "cell_type": "code",
   "execution_count": 1,
   "metadata": {},
   "outputs": [],
   "source": [
    "import matplotlib.pyplot as plt\n",
    "\n",
    "from surfinpy import bulk_mu_vs_mu as bmvm\n",
    "from surfinpy import utils as ut\n",
    "from surfinpy import data\n",
    "\n",
    "colors = ['#5B9BD5', '#4472C4', '#A5A5A5', '#772C24', '#ED7D31', '#FFC000', '#70AD47']"
   ]
  },
  {
   "cell_type": "code",
   "execution_count": 2,
   "metadata": {},
   "outputs": [],
   "source": [
    "bulk = data.ReferenceDataSet(cation = 1, anion = 1, energy = -92.0, funits = 10)"
   ]
  },
  {
   "cell_type": "markdown",
   "metadata": {},
   "source": [
    "Additionally, SurfinPy has the functionality to allow you to choose which colours are used for each phase.  Specify within the DataSet class color. "
   ]
  },
  {
   "cell_type": "code",
   "execution_count": 3,
   "metadata": {},
   "outputs": [],
   "source": [
    "Bulk = data.DataSet(cation = 10, x = 0, y = 0, energy = -92.0, color=colors[0], label = \"Bulk\")\n",
    "D = data.DataSet(cation = 10, x = 10, y = 0, energy = -310.0, color=colors[1], label = \"D\")\n",
    "B = data.DataSet(cation = 10, x = 0, y = 10, energy = -228.0, color=colors[2], label = \"B\")\n",
    "F = data.DataSet(cation = 10, x = 8, y = 10, energy = -398.0, color=colors[3], label = \"F\")\n",
    "A = data.DataSet(cation = 10, x = 5, y = 20, energy = -470.0, color=colors[4], label = \"A\")\n",
    "C = data.DataSet(cation = 10, x = 10, y = 30, energy = -706.0, color=colors[5], label = \"C\")\n",
    "E = data.DataSet(cation = 10, x = 10, y = 50, energy = -972.0, color=colors[6], label = \"E\")\n"
   ]
  },
  {
   "cell_type": "code",
   "execution_count": 4,
   "metadata": {},
   "outputs": [],
   "source": [
    "data = [Bulk, A, B, C,  D, E, F]"
   ]
  },
  {
   "cell_type": "code",
   "execution_count": 5,
   "metadata": {},
   "outputs": [],
   "source": [
    "x_energy=-20.53412969\n",
    "y_energy=-12.83725889"
   ]
  },
  {
   "cell_type": "code",
   "execution_count": 6,
   "metadata": {},
   "outputs": [],
   "source": [
    "CO2_exp = ut.fit_nist(\"ref_files/CO2.txt\")[298]\n",
    "Water_exp = ut.fit_nist(\"ref_files/H2O.txt\")[298]\n",
    "\n",
    "CO2_corrected = x_energy + CO2_exp\n",
    "Water_corrected = y_energy + Water_exp\n",
    "\n",
    "deltaX = {'Range': [ -1, 0.6],  'Label': 'CO_2'}\n",
    "deltaY = {'Range': [ -1, 0.6], 'Label': 'H_2O'}"
   ]
  },
  {
   "cell_type": "code",
   "execution_count": 7,
   "metadata": {
    "tags": []
   },
   "outputs": [
    {
     "name": "stderr",
     "output_type": "stream",
     "text": [
      "findfont: Font family ['cursive'] not found. Falling back to DejaVu Sans.\n"
     ]
    },
    {
     "data": {
      "image/png": "[encoded data removed]",
      "text/plain": [
       "<Figure size 432x324 with 2 Axes>"
      ]
     },
     "metadata": {
      "needs_background": "light"
     },
     "output_type": "display_data"
    }
   ],
   "source": [
    "system = bmvm.calculate(data, bulk, deltaX, deltaY, x_energy=CO2_corrected, y_energy=Water_corrected)\n",
    "\n",
    "ax = system.plot_phase(figsize=(6, 4.5))\n",
    "\n",
    "plt.show()"
   ]
  },
  {
   "cell_type": "markdown",
   "metadata": {},
   "source": [
    "To convert chemical potential to pressure use the plot_pressure command and the temperature at which the pressure is calculated.  For this example we have used 298 K."
   ]
  },
  {
   "cell_type": "code",
   "execution_count": 8,
   "metadata": {},
   "outputs": [
    {
     "data": {
      "image/png": "[encoded data removed]",
      "text/plain": [
       "<Figure size 360x288 with 2 Axes>"
      ]
     },
     "metadata": {
      "needs_background": "light"
     },
     "output_type": "display_data"
    }
   ],
   "source": [
    "import surfinpy\n",
    "ax = system.plot_pressure(temperature=298, figsize=(5, 4), cbar_title=\"Bulk Phase System\")\n",
    "plt.show()"
   ]
  },
  {
   "cell_type": "code",
   "execution_count": null,
   "metadata": {},
   "outputs": [],
   "source": []
  }
 ],
 "metadata": {
  "interpreter": {
   "hash": "685813633d4fa36b00330e7ced2cdbdee8c5777447e4fbccd91812f1de28bef6"
  },
  "kernelspec": {
   "display_name": "Python 3.8.5 64-bit ('SurfinPy': conda)",
   "language": "python",
   "name": "python3"
  },
  "language_info": {
   "codemirror_mode": {
    "name": "ipython",
    "version": 3
   },
   "file_extension": ".py",
   "mimetype": "text/x-python",
   "name": "python",
   "nbconvert_exporter": "python",
   "pygments_lexer": "ipython3",
   "version": "3.8.6"
  }
 },
 "nbformat": 4,
 "nbformat_minor": 2
}
